{
 "cells": [
  {
   "cell_type": "markdown",
   "metadata": {},
   "source": [
    "# Indexing More Data\n",
    "\n",
    "You can use this notebook to index an area of interest. Add a Lat and Lon center and a buffer (but note that you can only index 10,000 STAC items at a time) and run the steps below to add more data to your local ODC index."
   ]
  },
  {
   "cell_type": "code",
   "execution_count": 1,
   "metadata": {},
   "outputs": [],
   "source": [
    "import os\n",
    "\n",
    "import datacube\n",
    "from satsearch import Search\n",
    "from utils.stac_api_to_dc import stac_api_to_odc"
   ]
  },
  {
   "cell_type": "code",
   "execution_count": 4,
   "metadata": {},
   "outputs": [],
   "source": [
    "bbox = [25.226628617186762, 43.824280974535334, 25.230749923987737, 43.82206331731058]\n",
    "\n",
    "start_date = '2020-08-01'\n",
    "end_date = '2020-08-31'\n",
    "\n",
    "collections = ['sentinel-s2-l2a-cogs']\n",
    "\n",
    "config = {\n",
    "    'collections': collections,\n",
    "    'bbox': bbox,\n",
    "    'datetime': f\"{start_date}/{end_date}\"\n",
    "}\n",
    "\n",
    "STAC_API_URL = 'https://explorer.sandbox.dea.ga.gov.au/stac/'\n",
    "\n",
    "os.environ['STAC_API_URL'] = STAC_API_URL"
   ]
  },
  {
   "cell_type": "code",
   "execution_count": 5,
   "metadata": {},
   "outputs": [
    {
     "name": "stdout",
     "output_type": "stream",
     "text": [
      "Found 13 items that can be indexed\n"
     ]
    }
   ],
   "source": [
    "srch = Search().search(**config)\n",
    "found_items = srch.found()\n",
    "print(f\"Found {found_items} items that can be indexed\")"
   ]
  },
  {
   "cell_type": "markdown",
   "metadata": {},
   "source": [
    "_Note that the following cell will potentially raise some errors or warnings, but should result in data being indexed still._"
   ]
  },
  {
   "cell_type": "code",
   "execution_count": 14,
   "metadata": {},
   "outputs": [
    {
     "name": "stderr",
     "output_type": "stream",
     "text": [
      "WARNING:datacube.index._datasets:Dataset c6c0fdbc-498e-5a24-a169-48b275dab59c is already in the database\n",
      "WARNING:datacube.index._datasets:Dataset 73766044-56b8-5a67-b2d1-a386f068d0cc is already in the database\n",
      "WARNING:datacube.index._datasets:Dataset af3c1aa1-fecd-5ebb-a022-fc27e76c9036 is already in the database\n",
      "WARNING:datacube.index._datasets:Dataset 9087b386-fc8d-5706-a81d-d9d3b258fe5c is already in the database\n",
      "WARNING:datacube.index._datasets:Dataset f804f228-3c7b-5cde-8ec2-16242544177c is already in the database\n",
      "WARNING:datacube.index._datasets:Dataset fc3324de-ad63-5025-93ea-b4e4518ec624 is already in the database\n",
      "WARNING:datacube.index._datasets:Dataset a69afc51-92e5-5260-a9b0-386b77eea893 is already in the database\n",
      "WARNING:datacube.index._datasets:Dataset d9cefa77-242c-5c57-a099-860615cdcf38 is already in the database\n",
      "WARNING:datacube.index._datasets:Dataset 9c627157-d9b6-5420-8a2c-78ff61656a16 is already in the database\n",
      "WARNING:datacube.index._datasets:Dataset ea5bb9f2-511f-5fdc-9049-f59d79ba9990 is already in the database\n",
      "WARNING:datacube.index._datasets:Dataset b4a60605-b086-5ece-bc72-9a9267ef828a is already in the database\n",
      "WARNING:datacube.index._datasets:Dataset 255a54af-7438-5e1b-b715-adabb54d56f7 is already in the database\n",
      "WARNING:datacube.index._datasets:Dataset 2b240809-8238-5462-a6b8-7a9f0072174a is already in the database\n"
     ]
    },
    {
     "name": "stdout",
     "output_type": "stream",
     "text": [
      "Indexed 13 out of 13 with 0 failures.\n"
     ]
    }
   ],
   "source": [
    "dc = datacube.Datacube()\n",
    "\n",
    "indexed, failed = stac_api_to_odc(dc, 's2_l2a', None, False, False, config)\n",
    "print(f\"Indexed {indexed} out of {found_items} with {failed} failures.\")"
   ]
  },
  {
   "cell_type": "code",
   "execution_count": null,
   "metadata": {},
   "outputs": [],
   "source": []
  }
 ],
 "metadata": {
  "kernelspec": {
   "display_name": "Python 3",
   "language": "python",
   "name": "python3"
  },
  "language_info": {
   "codemirror_mode": {
    "name": "ipython",
    "version": 3
   },
   "file_extension": ".py",
   "mimetype": "text/x-python",
   "name": "python",
   "nbconvert_exporter": "python",
   "pygments_lexer": "ipython3",
   "version": "3.6.9"
  }
 },
 "nbformat": 4,
 "nbformat_minor": 4
}
